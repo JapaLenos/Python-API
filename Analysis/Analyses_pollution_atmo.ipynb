{
 "cells": [
  {
   "cell_type": "markdown",
   "metadata": {},
   "source": [
    "## Notebook - Concentration en polluants atmosphériques - Département du Rhône (69)\n"
   ]
  },
  {
   "cell_type": "markdown",
   "metadata": {
    "heading_collapsed": true
   },
   "source": [
    "### Connection au GIS et import des bibliothèques"
   ]
  },
  {
   "cell_type": "code",
   "execution_count": null,
   "metadata": {
    "hidden": true
   },
   "outputs": [],
   "source": [
    "from arcgis.gis import GIS\n",
    "gis = GIS(\"home\")\n",
    "\n",
    "import arcpy\n",
    "from arcpy.sa import *\n",
    "arcpy.env.overwriteOutput = True\n",
    "\n",
    "from arcgis.mapping import WebMap\n",
    "from arcgis.apps.dashboard import Dashboard\n",
    "from arcgis.apps.dashboard import Header, RichText, Indicator, MapLegend, SidePanel\n",
    "from arcgis.apps.dashboard import add_row, add_column\n",
    "\n",
    "import pandas as pd\n",
    "import os\n",
    "import datetime\n",
    "import shutil\n",
    "\n",
    "#import logging\n",
    "#logging.captureWarnings(True)"
   ]
  },
  {
   "cell_type": "markdown",
   "metadata": {
    "heading_collapsed": true
   },
   "source": [
    "### Préparation des espaces de travail"
   ]
  },
  {
   "cell_type": "markdown",
   "metadata": {
    "heading_collapsed": true,
    "hidden": true
   },
   "source": [
    "#### Variables"
   ]
  },
  {
   "cell_type": "code",
   "execution_count": null,
   "metadata": {
    "hidden": true
   },
   "outputs": [],
   "source": [
    "today = datetime.date.today().strftime(\"%y_%m_%d\")\n",
    "todayDisplay = datetime.date.today().strftime(\"%d/%m/%y\")\n",
    "\n",
    "polluants = [\"no2\",\"o3\",\"pm25\"]\n",
    "concentrations=[\"conc_no2\",\"conc_o3\",\"conc_pm25\"]\n",
    "\n",
    "limites69 = '/arcgis/home/Limites_admin_69/admin-departement.shp'"
   ]
  },
  {
   "cell_type": "markdown",
   "metadata": {
    "heading_collapsed": true,
    "hidden": true
   },
   "source": [
    "#### Fichier principal"
   ]
  },
  {
   "cell_type": "code",
   "execution_count": null,
   "metadata": {
    "hidden": true
   },
   "outputs": [],
   "source": [
    "def create_folder(folder_name: str) -> None:\n",
    "    home_path = os.path.abspath('/arcgis/home')\n",
    "    folder_path = os.path.join(home_path, folder_name)\n",
    "    if not os.path.exists(folder_path):\n",
    "        os.makedirs(folder_path)\n",
    "        print(f\"Created folder: {folder_path}\")\n",
    "    else:\n",
    "        print(f\"A folder named {folder_name} already exists in {home_path}.\")\n",
    "\n",
    "create_folder('Analyses_ATMO_{0}'.format(today))"
   ]
  },
  {
   "cell_type": "markdown",
   "metadata": {
    "heading_collapsed": true,
    "hidden": true
   },
   "source": [
    "#### Sous-fichiers"
   ]
  },
  {
   "cell_type": "code",
   "execution_count": null,
   "metadata": {
    "hidden": true
   },
   "outputs": [],
   "source": [
    "def create_subfolder(folder_name: str) -> None:\n",
    "    home_path = os.path.abspath('/arcgis/home/Analyses_ATMO_{0}'.format(today))\n",
    "    folder_path = os.path.join(home_path, folder_name)\n",
    "    if not os.path.exists(folder_path):\n",
    "        os.makedirs(folder_path)\n",
    "        print(f\"Created folder: {folder_path}\")\n",
    "    else:\n",
    "        print(f\"A folder named {folder_name} already exists in {home_path}.\")\n",
    "        \n",
    "subfolders = ['Points_Echantillonage_{0}'.format(today)] \n",
    "\n",
    "for concentration in concentrations : \n",
    "    subfolders.append('EBK_{1}_{0}'.format(today,concentration))\n",
    "    subfolders.append('EBK_Clipped_{1}_{0}'.format(today,concentration))\n",
    "    \n",
    "for subfolder in subfolders :\n",
    "    create_subfolder(subfolder)"
   ]
  },
  {
   "cell_type": "markdown",
   "metadata": {
    "heading_collapsed": true,
    "hidden": true
   },
   "source": [
    "#### GDB"
   ]
  },
  {
   "cell_type": "code",
   "execution_count": null,
   "metadata": {
    "hidden": true
   },
   "outputs": [],
   "source": [
    "def create_fgdb(folder_path: str, fgdb_name: str) -> None:\n",
    "    if not os.path.isdir(folder_path):\n",
    "        os.mkdir(folder_path)\n",
    "    arcpy.env.workspace = folder_path\n",
    "    fgdb_path = os.path.join(folder_path, fgdb_name)\n",
    "    if not arcpy.Exists(fgdb_name):\n",
    "        arcpy.management.CreateFileGDB(folder_path, fgdb_name)\n",
    "        print(f\"Created file geodatabase: {fgdb_path}\")\n",
    "    else:\n",
    "        print(f\"A file geodatabase named {fgdb_name} already exists in {folder_path}.\")\n",
    "\n",
    "create_fgdb('/arcgis/home/Analyses_ATMO_{0}'.format(today), 'database.gdb')\n",
    "arcpy.env.workspace = '/arcgis/home/Analyses_ATMO_{0}/database.gdb'.format(today)"
   ]
  },
  {
   "cell_type": "markdown",
   "metadata": {
    "heading_collapsed": true
   },
   "source": [
    "### Préparation des données"
   ]
  },
  {
   "cell_type": "markdown",
   "metadata": {
    "heading_collapsed": true,
    "hidden": true
   },
   "source": [
    "#### Import du csv et interprétation en Pandas Dataframe"
   ]
  },
  {
   "cell_type": "code",
   "execution_count": null,
   "metadata": {
    "hidden": true
   },
   "outputs": [],
   "source": [
    "inputDataset = '/arcgis/home/Analyses_ATMO_23_04_20/Indice_ATMO_2023_04_17_utf8.csv'"
   ]
  },
  {
   "cell_type": "code",
   "execution_count": null,
   "metadata": {
    "hidden": true
   },
   "outputs": [],
   "source": [
    "df = pd.read_csv(inputDataset,sep=',', low_memory=False, encoding=\"utf8\")\n",
    "df"
   ]
  },
  {
   "cell_type": "markdown",
   "metadata": {
    "heading_collapsed": true,
    "hidden": true
   },
   "source": [
    "#### Nettoyage des données (département du Rhône + supression des valeurs manquantes)"
   ]
  },
  {
   "cell_type": "code",
   "execution_count": null,
   "metadata": {
    "hidden": true
   },
   "outputs": [],
   "source": [
    "df[\"code_zone\"] = df[\"code_zone\"].astype(str)\n",
    "df = df[df[\"code_zone\"].str.startswith('69',na=False)]\n",
    "df"
   ]
  },
  {
   "cell_type": "code",
   "execution_count": null,
   "metadata": {
    "hidden": true
   },
   "outputs": [],
   "source": [
    "df = df.dropna()\n",
    "df"
   ]
  },
  {
   "cell_type": "markdown",
   "metadata": {
    "heading_collapsed": true,
    "hidden": true
   },
   "source": [
    "#### Réécriture au format .csv"
   ]
  },
  {
   "cell_type": "code",
   "execution_count": null,
   "metadata": {
    "hidden": true
   },
   "outputs": [],
   "source": [
    "cleanDataset = '/arcgis/home/Analyses_ATMO_{0}/Indice_ATMO_69_{0}_utf-8.csv'.format(today)\n",
    "df.to_csv(cleanDataset, sep=';',encoding='utf-8')"
   ]
  },
  {
   "cell_type": "markdown",
   "metadata": {
    "heading_collapsed": true
   },
   "source": [
    "### Traitements"
   ]
  },
  {
   "cell_type": "markdown",
   "metadata": {
    "heading_collapsed": true,
    "hidden": true
   },
   "source": [
    "#### Table vers points"
   ]
  },
  {
   "cell_type": "code",
   "execution_count": null,
   "metadata": {
    "hidden": true
   },
   "outputs": [],
   "source": [
    "points = \"/arcgis/home/Analyses_ATMO_{0}/Points_Echantillonage_{0}/Points_atmo_69_{0}\".format(today)"
   ]
  },
  {
   "cell_type": "code",
   "execution_count": null,
   "metadata": {
    "hidden": true
   },
   "outputs": [],
   "source": [
    "arcpy.management.XYTableToPoint(cleanDataset, points, \"x_wgs84\", \"y_wgs84\")"
   ]
  },
  {
   "cell_type": "markdown",
   "metadata": {
    "heading_collapsed": true,
    "hidden": true
   },
   "source": [
    "#### Interpolation des concentrations de polluants (NO2, O3 et PM2,5) et découpe aux limites du département"
   ]
  },
  {
   "cell_type": "code",
   "execution_count": null,
   "metadata": {
    "hidden": true
   },
   "outputs": [],
   "source": [
    "for concentration in concentrations :\n",
    "    \n",
    "    EBKOutput = \"EDK.lyr\"\n",
    "    EBKFilledOutput = r\"/arcgis/home/Analyses_ATMO_{0}/EBK_{1}_{0}/EBK_{1}_{0}\".format(today, concentration)\n",
    "    ClippedOutput = r\"/arcgis/home/Analyses_ATMO_{0}/EBK_Clipped_{1}_{0}/EBK_Clipped_{1}_{0}\".format(today, concentration)\n",
    "    \n",
    "    arcpy.EmpiricalBayesianKriging_ga(points, concentration,EBKOutput)\n",
    "    arcpy.GALayerToContour_ga(EBKOutput, \"Filled_contour\", EBKFilledOutput,\n",
    "                          \"Presentation\", \"GEOMETRIC_INTERVAL\", 30, \"\")\n",
    "    \n",
    "    arcpy.analysis.Clip(EBKFilledOutput, limites69, ClippedOutput)"
   ]
  },
  {
   "cell_type": "markdown",
   "metadata": {
    "heading_collapsed": true
   },
   "source": [
    "### Partage des données sur le portail"
   ]
  },
  {
   "cell_type": "code",
   "execution_count": null,
   "metadata": {
    "hidden": true
   },
   "outputs": [],
   "source": [
    "foldersToPublish = ['Points_Echantillonage_{0}'.format(today),'EBK_Clipped_conc_no2_{0}'.format(today),'EBK_Clipped_conc_o3_{0}'.format(today),'EBK_Clipped_conc_pm25_{0}'.format(today)] \n",
    "\n",
    "couches = []\n",
    "\n",
    "for folder in foldersToPublish :\n",
    "    archive = shutil.make_archive('/arcgis/home/Analyses_ATMO_{0}/{1}'.format(today,folder),'zip','/arcgis/home/Analyses_ATMO_{0}/{1}'.format(today,folder))\n",
    "    shpfile = gis.content.add({}, archive)\n",
    "    published_service = shpfile.publish()\n",
    "    shpfile.move(gis.users.me.folders[0])\n",
    "    published_service.move(gis.users.me.folders[0])\n",
    "    couches.append(published_service.id)\n",
    "    display(published_service)\n",
    "    \n",
    "del couches[0]"
   ]
  },
  {
   "cell_type": "markdown",
   "metadata": {
    "heading_collapsed": true
   },
   "source": [
    "### Application de la symbologie, création des cartes et du Dashboard"
   ]
  },
  {
   "cell_type": "markdown",
   "metadata": {
    "heading_collapsed": true,
    "hidden": true
   },
   "source": [
    "#### Renderers"
   ]
  },
  {
   "cell_type": "code",
   "execution_count": null,
   "metadata": {
    "hidden": true
   },
   "outputs": [],
   "source": [
    "rendererno2 = {\"renderer\": \"autocast\", #This tells python to use JS autocasting\n",
    "               \"type\": \"classBreaks\",\n",
    "               \"field\":\"Value_Max\",\n",
    "               \"minValue\":0}\n",
    "\n",
    "rendererno2[\"visualVariables\"]= [{   \"type\": \"colorInfo\",\n",
    "                                        \"field\": \"Value_Max\",\n",
    "                                        \"stops\": [  {\n",
    "                                                        \"value\": 10,\n",
    "                                                        \"color\": [19,255,202,130],\n",
    "                                                        \"label\": \"<10\"\n",
    "                                                    },\n",
    "                                                    {\n",
    "                                                        \"value\": 20,\n",
    "                                                        \"color\": [176,255,133,130],\n",
    "                                                        \"label\": \"20\"\n",
    "                                                    },\n",
    "                                                    {\n",
    "                                                        \"value\": 30,\n",
    "                                                        \"color\": [242,254,30,130],\n",
    "                                                        \"label\": \"30\"\n",
    "                                                    },\n",
    "                                                    {\n",
    "                                                        \"value\": 40,\n",
    "                                                        \"color\": [255,167,19,130],\n",
    "                                                        \"label\": \"40\"\n",
    "                                                    },\n",
    "                                                    {\n",
    "                                                        \"value\": 50,\n",
    "                                                        \"color\": [254,35,10,130],\n",
    "                                                        \"label\": \">50\"\n",
    "                                                    }]\n",
    "                                    }]\n",
    "rendererno2[\"classBreakInfos\"] = [{   \"symbol\": {\n",
    "                                            \"color\": [170,170,170,0],\n",
    "                                            \"outline\": {\n",
    "                                                \"color\": [153,153,153,0],\n",
    "                                                \"width\": 0.375,\n",
    "                                                \"type\": \"esriSLS\",\n",
    "                                                \"style\": \"esriSLSSolid\"\n",
    "                                            },\n",
    "                                            \"type\": \"esriSFS\",\n",
    "                                            \"style\": \"esriSFSSolid\"\n",
    "                                        },\n",
    "                                        \"classMaxValue\": 9007199254740991\n",
    "                                    }]                "
   ]
  },
  {
   "cell_type": "code",
   "execution_count": null,
   "metadata": {
    "hidden": true
   },
   "outputs": [],
   "source": [
    "renderero3 = {\"renderer\": \"autocast\", #This tells python to use JS autocasting\n",
    "               \"type\": \"classBreaks\",\n",
    "               \"field\":\"Value_Max\",\n",
    "               \"minValue\":0}\n",
    "\n",
    "renderero3[\"visualVariables\"]= [{   \"type\": \"colorInfo\",\n",
    "                                        \"field\": \"Value_Max\",\n",
    "                                        \"stops\": [  {\n",
    "                                                        \"value\": 70,\n",
    "                                                        \"color\": [19,255,202,130],\n",
    "                                                        \"label\": \"<70\"\n",
    "                                                    },\n",
    "                                                    {\n",
    "                                                        \"value\": 80,\n",
    "                                                        \"color\": [176,255,133,130],\n",
    "                                                        \"label\": \"80\"\n",
    "                                                    },\n",
    "                                                    {\n",
    "                                                        \"value\": 90,\n",
    "                                                        \"color\": [242,254,30,130],\n",
    "                                                        \"label\": \"90\"\n",
    "                                                    },\n",
    "                                                    {\n",
    "                                                        \"value\": 100,\n",
    "                                                        \"color\": [255,167,19,130],\n",
    "                                                        \"label\": \"100\"\n",
    "                                                    },\n",
    "                                                    {\n",
    "                                                        \"value\": 120,\n",
    "                                                        \"color\": [254,35,10,130],\n",
    "                                                        \"label\": \">120\"\n",
    "                                                    }]\n",
    "                                    }]\n",
    "renderero3[\"classBreakInfos\"] = [{   \"symbol\": {\n",
    "                                            \"color\": [170,170,170,0],\n",
    "                                            \"outline\": {\n",
    "                                                \"color\": [153,153,153,0],\n",
    "                                                \"width\": 0.375,\n",
    "                                                \"type\": \"esriSLS\",\n",
    "                                                \"style\": \"esriSLSSolid\"\n",
    "                                            },\n",
    "                                            \"type\": \"esriSFS\",\n",
    "                                            \"style\": \"esriSFSSolid\"\n",
    "                                        },\n",
    "                                        \"classMaxValue\": 9007199254740991\n",
    "                                    }]                "
   ]
  },
  {
   "cell_type": "code",
   "execution_count": null,
   "metadata": {
    "hidden": true
   },
   "outputs": [],
   "source": [
    "rendererpm25 = {\"renderer\": \"autocast\", #This tells python to use JS autocasting\n",
    "               \"type\": \"classBreaks\",\n",
    "               \"field\":\"Value_Max\",\n",
    "               \"minValue\":0}\n",
    "\n",
    "rendererpm25[\"visualVariables\"]= [{   \"type\": \"colorInfo\",\n",
    "                                        \"field\": \"Value_Max\",\n",
    "                                        \"stops\": [  {\n",
    "                                                        \"value\": 0,\n",
    "                                                        \"color\": [19,255,202,130],\n",
    "                                                        \"label\": \"0\"\n",
    "                                                    },\n",
    "                                                    {\n",
    "                                                        \"value\": 5,\n",
    "                                                        \"color\": [176,255,133,130],\n",
    "                                                        \"label\": \"5\"\n",
    "                                                    },\n",
    "                                                    {\n",
    "                                                        \"value\": 10,\n",
    "                                                        \"color\": [242,254,30,130],\n",
    "                                                        \"label\": \"10\"\n",
    "                                                    },\n",
    "                                                    {\n",
    "                                                        \"value\": 15,\n",
    "                                                        \"color\": [255,167,19,130],\n",
    "                                                        \"label\": \"15\"\n",
    "                                                    },\n",
    "                                                    {\n",
    "                                                        \"value\": 25,\n",
    "                                                        \"color\": [254,35,10,130],\n",
    "                                                        \"label\": \">25\"\n",
    "                                                    }]\n",
    "                                    }]\n",
    "rendererpm25[\"classBreakInfos\"] = [{   \"symbol\": {\n",
    "                                            \"color\": [170,170,170,0],\n",
    "                                            \"outline\": {\n",
    "                                                \"color\": [153,153,153,0],\n",
    "                                                \"width\": 0.375,\n",
    "                                                \"type\": \"esriSLS\",\n",
    "                                                \"style\": \"esriSLSSolid\"\n",
    "                                            },\n",
    "                                            \"type\": \"esriSFS\",\n",
    "                                            \"style\": \"esriSFSSolid\"\n",
    "                                        },\n",
    "                                        \"classMaxValue\": 9007199254740991\n",
    "                                    }]                "
   ]
  },
  {
   "cell_type": "markdown",
   "metadata": {
    "heading_collapsed": true,
    "hidden": true
   },
   "source": [
    "#### Création des cartes"
   ]
  },
  {
   "cell_type": "code",
   "execution_count": null,
   "metadata": {
    "hidden": true
   },
   "outputs": [],
   "source": [
    "carte = gis.map('Lyon')\n",
    "carte.basemap='topo-vector'\n",
    "\n",
    "renderers = [rendererno2,renderero3,rendererpm25]\n",
    "\n",
    "i=0\n",
    "webmapsIDs = []\n",
    "\n",
    "for couche in couches :\n",
    "    polluant = gis.content.get(\"{0}\".format(couche))\n",
    "    carte.add_layer(polluant.layers[0],\n",
    "               { \"type\": \"FeatureLayer\",\n",
    "                 \"renderer\" : renderers[i]})\n",
    "    \n",
    "    carte.zoom_to_layer(polluant.layers[0])\n",
    "    \n",
    "    webmap_properties = {'title':'Analyses de_concentration de {1} du {0}'.format(todayDisplay,polluants[i]),\n",
    "                     'snippet': 'Concentration atmospherique de {1} selon les releves ATMO du {0}'.format(todayDisplay,polluants[i]),\n",
    "                     'tags':['automation', 'python','demo']}\n",
    "\n",
    "    webmap_item = carte.save(webmap_properties)\n",
    "    webmap_item.move(gis.users.me.folders[0])\n",
    "    display(webmap_item)\n",
    "    webmapsIDs.append(webmap_item.id)\n",
    "    \n",
    "    carte.remove_layers()\n",
    "    \n",
    "    i+=1"
   ]
  },
  {
   "cell_type": "markdown",
   "metadata": {
    "heading_collapsed": true,
    "hidden": true
   },
   "source": [
    "#### Création du Dashboard"
   ]
  },
  {
   "cell_type": "code",
   "execution_count": null,
   "metadata": {
    "hidden": true
   },
   "outputs": [],
   "source": [
    "carte_search = gis.content.search(\"{0}\".format(webmapsIDs[1]))[0]\n",
    "carte_search"
   ]
  },
  {
   "cell_type": "code",
   "execution_count": null,
   "metadata": {
    "hidden": true
   },
   "outputs": [],
   "source": [
    "#carte no2\n",
    "carte_search = gis.content.search(\"{0}\".format(webmapsIDs[0]))[0]\n",
    "carteid = carte_search.id\n",
    "carte_get = gis.content.get(\"{0}\".format(carteid))\n",
    "no2Webmap = WebMap(carte_get)\n",
    "\n",
    "no2Webmap.width=1\n",
    "no2Webmap.height=0.73\n",
    "no2Webmap.basemap_switcher = True\n",
    "no2Webmap.search = True\n",
    "    #légende\n",
    "legendeno2 = MapLegend(no2Webmap)\n",
    "legendeno2.height=0.2\n",
    "    #texte\n",
    "textno2 = RichText(\"<h2>Concentration de NO2 (µg.m-3)</h2>\")\n",
    "textno2.height=0.07\n",
    "\n",
    "\n",
    "#carte o3\n",
    "carte_search = gis.content.search(\"{0}\".format(webmapsIDs[1]))[0]\n",
    "carteid = carte_search.id\n",
    "carte_get = gis.content.get(\"{0}\".format(carteid))\n",
    "o3Webmap = WebMap(carte_get)\n",
    "o3Webmap.width=1\n",
    "o3Webmap.height=0.73\n",
    "o3Webmap.basemap_switcher = True\n",
    "o3Webmap.search = True\n",
    "    #légende\n",
    "legendeo3 = MapLegend(o3Webmap)\n",
    "legendeo3.height=0.2\n",
    "    #texte\n",
    "texteo3 = RichText(\"<h2>Concentration d'O3 (µg.m-3)</h2>\")\n",
    "texteo3.height=0.07\n",
    "\n",
    "\n",
    "#carte pm25\n",
    "carte_search = gis.content.search(\"{0}\".format(webmapsIDs[2]))[0]\n",
    "carteid = carte_search.id\n",
    "carte_get = gis.content.get(\"{0}\".format(carteid))\n",
    "pm25Webmap = WebMap(carte_get)\n",
    "\n",
    "pm25Webmap.width=1\n",
    "pm25Webmap.height=0.73\n",
    "pm25Webmap.basemap_switcher = True\n",
    "pm25Webmap.search = True\n",
    "    #légende\n",
    "legendepm25 = MapLegend(pm25Webmap)\n",
    "legendepm25.height=0.2\n",
    "    #texte\n",
    "textepm25 = RichText(\"<h2>Concentration de PM2.5 (µg.m-3)</h2>\")\n",
    "textepm25.height=0.07\n",
    "\n",
    "#entête\n",
    "entete = Header(title='Analyses de concentrations atmosphériques de NO2, O3 et PM2.5',\n",
    "                subtitle='Selon interpolation des relevés ATMO du {0}'.format(todayDisplay),\n",
    "                margin=True,\n",
    "                size='large')\n",
    "\n",
    "#création et sauvegarde du Dashboard\n",
    "dashboard = Dashboard()\n",
    "dashboard.header = entete\n",
    "dashboard.theme = \"light\"\n",
    "dashboard.layout = add_column([add_row([textno2,no2Webmap,legendeno2]),add_row([texteo3,o3Webmap,legendeo3]),add_row([textepm25,pm25Webmap,legendepm25])])\n",
    "dashboard.save('Dashboard Analyses Atmosphériques du {0}'.format(todayDisplay),\n",
    "                description=\"Dashboards des analyses de concentration atmosphériques dans le Rhône de NO2, O3 et PM2.5 selon une interpolations des relevés ATMO du {0}\".format(todayDisplay),\n",
    "                tags='ATMO, Demo',\n",
    "                overwrite=True)"
   ]
  },
  {
   "cell_type": "markdown",
   "metadata": {
    "heading_collapsed": true
   },
   "source": [
    "### Partage dans le groupe et notification des membres"
   ]
  },
  {
   "cell_type": "markdown",
   "metadata": {
    "heading_collapsed": true,
    "hidden": true
   },
   "source": [
    "#### Partage"
   ]
  },
  {
   "cell_type": "code",
   "execution_count": null,
   "metadata": {
    "hidden": true
   },
   "outputs": [],
   "source": [
    "groupe = gis.groups.search('title: ATMO 69', max_groups=1)\n",
    "dashboard = gis.content.search('Dashboard Analyses Atmosphériques du {0}'.format(todayDisplay))[0]\n",
    "dashboard.move(gis.users.me.folders[0])"
   ]
  },
  {
   "cell_type": "code",
   "execution_count": null,
   "metadata": {
    "hidden": true
   },
   "outputs": [],
   "source": [
    "dashboard.share(groups=groupe)"
   ]
  },
  {
   "cell_type": "markdown",
   "metadata": {
    "heading_collapsed": true,
    "hidden": true
   },
   "source": [
    "#### Notification"
   ]
  },
  {
   "cell_type": "code",
   "execution_count": null,
   "metadata": {
    "hidden": true
   },
   "outputs": [],
   "source": [
    "#Lister les membres du groupe\n",
    "membres = groupe[0].get_members()\n",
    "#formatage des données\n",
    "liste_membres = []\n",
    "liste_notifs = []\n",
    "for clef, membre in membres.items() :\n",
    "    if clef !='owner':\n",
    "        liste_membres.append(membre)\n",
    "        \n",
    "for admin in liste_membres[0] :\n",
    "    liste_notifs.append(admin)\n",
    "for user in liste_membres[1] :\n",
    "    liste_notifs.append(user)\n",
    "display(liste_notifs)"
   ]
  },
  {
   "cell_type": "code",
   "execution_count": null,
   "metadata": {
    "hidden": true
   },
   "outputs": [],
   "source": [
    "gis.users.send_notification(liste_notifs, \"Nouveau Dashboard disponible\",#titre du message\n",
    "                            \"Le Dashboard d'analyses des concentrations atmosphériques en polluants NO2, O3 et PM2,5 dans le Rhône du {0} est disponible dans le groupe ATMO 69 (https://esrifrance.maps.arcgis.com/home/group.html?id=b3824c2fe84845f99db2d6e5f884a71f#overview)\".format(todayDisplay), #contenu du message\n",
    "                            \"email\" #à retirer pour avoir une notification sur le portail\n",
    "                           )"
   ]
  }
 ],
 "metadata": {
  "esriNotebookRuntime": {
   "notebookRuntimeName": "ArcGIS Notebook Python 3 Advanced",
   "notebookRuntimeVersion": "7.0"
  },
  "kernelspec": {
   "display_name": "Python 3 (ipykernel)",
   "language": "python",
   "name": "python3"
  },
  "language_info": {
   "codemirror_mode": {
    "name": "ipython",
    "version": 3
   },
   "file_extension": ".py",
   "mimetype": "text/x-python",
   "name": "python",
   "nbconvert_exporter": "python",
   "pygments_lexer": "ipython3",
   "version": "3.9.11"
  }
 },
 "nbformat": 4,
 "nbformat_minor": 2
}
