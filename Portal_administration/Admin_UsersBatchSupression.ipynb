{
 "cells": [
  {
   "attachments": {},
   "cell_type": "markdown",
   "metadata": {},
   "source": [
    "This administration Notebook find inactive viewer of an ArcGIS (Online or Enterprise) portal and deletes them."
   ]
  },
  {
   "cell_type": "code",
   "execution_count": 1,
   "metadata": {},
   "outputs": [],
   "source": [
    "from arcgis.gis import GIS\n",
    "from IPython.display import display\n",
    "import os,sys, time"
   ]
  },
  {
   "cell_type": "code",
   "execution_count": null,
   "metadata": {},
   "outputs": [],
   "source": [
    "#portal connection\n",
    "gis = GIS(\"https://url/portal/home\", \"admin_account\")#use ArcGIS Enterprise or ArcGIS Online account url and an admin acount username. "
   ]
  },
  {
   "cell_type": "code",
   "execution_count": 32,
   "metadata": {},
   "outputs": [],
   "source": [
    "#search all portal users (within the limit of the first 1000, this limit is modifiable)\n",
    "gisUsers = gis.users.search(max_users=1000) "
   ]
  },
  {
   "cell_type": "code",
   "execution_count": 9,
   "metadata": {},
   "outputs": [],
   "source": [
    "usersIgnoreList = ['user1','user2'] #enter usernames that should not be deleted even if they meet all other conditions for deletion"
   ]
  },
  {
   "cell_type": "code",
   "execution_count": null,
   "metadata": {},
   "outputs": [],
   "source": [
    "for user in gisUsers:\n",
    "    if user.role == \"Viewer\": #will only take Viewer roles into account \n",
    "        if user.username not in usersIgnoreList :\n",
    "            if user.lastLogin >= -1: #-1 means \"never connected\". Otherwise, write the date of last connection in epoch in MILISECOND (epoch converter : https://www.epochconverter.com/)\n",
    "                print(\"deleting user: \" + user.username)\n",
    "                user.delete() #deletes the inactive viewers that are not on the ignore list"
   ]
  }
 ],
 "metadata": {
  "kernelspec": {
   "display_name": "ArcGISPro",
   "language": "Python",
   "name": "python3"
  },
  "language_info": {
   "file_extension": ".py",
   "name": "python",
   "version": "3"
  }
 },
 "nbformat": 4,
 "nbformat_minor": 2
}
